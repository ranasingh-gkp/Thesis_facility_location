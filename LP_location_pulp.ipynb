{
  "nbformat": 4,
  "nbformat_minor": 0,
  "metadata": {
    "colab": {
      "name": "LP_location_pulp.ipynb",
      "version": "0.3.2",
      "provenance": [],
      "collapsed_sections": []
    },
    "kernelspec": {
      "name": "python3",
      "display_name": "Python 3"
    }
  },
  "cells": [
    {
      "metadata": {
        "id": "Lmr156uG_-pi",
        "colab_type": "code",
        "colab": {
          "base_uri": "https://localhost:8080/",
          "height": 71
        },
        "outputId": "edb4e37b-2ca7-4f75-cedd-0c7a1cf7c703"
      },
      "cell_type": "code",
      "source": [
        "pip install pulp"
      ],
      "execution_count": 25,
      "outputs": [
        {
          "output_type": "stream",
          "text": [
            "Requirement already satisfied: pulp in /usr/local/lib/python3.6/dist-packages (1.6.9)\n",
            "Requirement already satisfied: pyparsing>=2.0.1 in /usr/local/lib/python3.6/dist-packages (from pulp) (2.4.0)\n"
          ],
          "name": "stdout"
        }
      ]
    },
    {
      "metadata": {
        "id": "A0vBA0w7AIxL",
        "colab_type": "code",
        "colab": {}
      },
      "cell_type": "code",
      "source": [
        "from pulp import *"
      ],
      "execution_count": 0,
      "outputs": []
    },
    {
      "metadata": {
        "id": "ONT2EIMaALG1",
        "colab_type": "code",
        "colab": {}
      },
      "cell_type": "code",
      "source": [
        "#SETS \n",
        "customers = [1,2,3,4,5]\n",
        "facility = ['FAC 1','FAC 2','FAC 3']"
      ],
      "execution_count": 0,
      "outputs": []
    },
    {
      "metadata": {
        "id": "1uUUtxLjAwfc",
        "colab_type": "code",
        "colab": {}
      },
      "cell_type": "code",
      "source": [
        "#parameter\n",
        "demand={1 : 80,\n",
        "       2 : 270,\n",
        "       3 : 250,\n",
        "       4 : 160,\n",
        "       5 : 180}\n",
        "actcost = {'FAC 1' : 1000,\n",
        "          'FAC 2' : 1000,\n",
        "          'FAC 3' : 1000}\n",
        "maxamount = {'FAC 1' : 500,\n",
        "          'FAC 2' : 500,\n",
        "          'FAC 3' : 500}\n",
        "transportcost = {'FAC 1' :{1 : 4, 2 : 5, 3 : 6, 4 : 8, 5 : 10},\n",
        "          'FAC 2' :{1 : 6, 2 : 4, 3 : 3, 4 : 5, 5 : 8},\n",
        "          'FAC 3' :{1 : 9, 2 : 7, 3 : 4, 4 : 3, 5 : 4}}"
      ],
      "execution_count": 0,
      "outputs": []
    },
    {
      "metadata": {
        "id": "BbDRoxBjCRxF",
        "colab_type": "code",
        "colab": {}
      },
      "cell_type": "code",
      "source": [
        "#SET PROBLEM VARIABLE\n",
        "prob = LpProblem(\"FacilityLocation\", LpMinimize)"
      ],
      "execution_count": 0,
      "outputs": []
    },
    {
      "metadata": {
        "id": "ELMxcHBaC0Yx",
        "colab_type": "code",
        "colab": {}
      },
      "cell_type": "code",
      "source": [
        "#decision variable\n",
        "serv_vars = LpVariable.dicts(\"Service\",\n",
        "                            [(i,j) for i in customers\n",
        "                                   for j in facility],\n",
        "                            0)\n",
        "use_vars = LpVariable.dicts(\"Uselocation\", facility,0,1,LpBinary)"
      ],
      "execution_count": 0,
      "outputs": []
    },
    {
      "metadata": {
        "id": "82E1XWxfEWNz",
        "colab_type": "code",
        "colab": {}
      },
      "cell_type": "code",
      "source": [
        "#objective function\n",
        "prob += lpSum(actcost[j]*use_vars[j] for j in facility) + lpSum(transportcost[j][i]*serv_vars[(i,j)] for j in facility for i in customers)"
      ],
      "execution_count": 0,
      "outputs": []
    },
    {
      "metadata": {
        "id": "mx1RXy08Jm8l",
        "colab_type": "code",
        "colab": {}
      },
      "cell_type": "code",
      "source": [
        "#constraints\n",
        "for i in customers:\n",
        "  prob +=lpSum(serv_vars[(i,j)] for j in facility) == demand[i] #constraints 1\n",
        "\n",
        "for j in facility:\n",
        "  prob +=lpSum(serv_vars[(i,j)] for i in customers) <= maxamount[j]*use_vars[j]\n",
        "  \n",
        "\n",
        "for i in customers:\n",
        "  for j in facility:\n",
        "    prob +=serv_vars[(i,j)] <= demand[i]*use_vars[j]\n",
        "    "
      ],
      "execution_count": 0,
      "outputs": []
    },
    {
      "metadata": {
        "id": "Ud2yFAg4LBW9",
        "colab_type": "code",
        "colab": {
          "base_uri": "https://localhost:8080/",
          "height": 129
        },
        "outputId": "7623f926-ed63-4cd8-ec0b-754c57b47839"
      },
      "cell_type": "code",
      "source": [
        "#solution\n",
        "prob.solve()\n",
        "print(\"status\", LpStatus[prob.status])\n",
        "\n",
        "#print decision variables\n",
        "TOL = .00001\n",
        "for i in facility:\n",
        "  if use_vars[i].varValue >TOL\n",
        "  print(\"establish facility st site\" , i)\n",
        "\n",
        "for v in prob.variables():\n",
        "  print(v.name, \"=\" ,v.varValue)\n",
        " \n",
        "#print optimal solution\n",
        "print(\"the cost of production in dollers for one year\", value(prob.objective))"
      ],
      "execution_count": 34,
      "outputs": [
        {
          "output_type": "error",
          "ename": "SyntaxError",
          "evalue": "ignored",
          "traceback": [
            "\u001b[0;36m  File \u001b[0;32m\"<ipython-input-34-71caeabaf85f>\"\u001b[0;36m, line \u001b[0;32m7\u001b[0m\n\u001b[0;31m    if use_vars[i].varValue >TOL\u001b[0m\n\u001b[0m                                ^\u001b[0m\n\u001b[0;31mSyntaxError\u001b[0m\u001b[0;31m:\u001b[0m invalid syntax\n"
          ]
        }
      ]
    }
  ]
}