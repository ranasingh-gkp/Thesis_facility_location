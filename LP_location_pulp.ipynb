{
  "nbformat": 4,
  "nbformat_minor": 0,
  "metadata": {
    "colab": {
      "name": "LP_location_pulp.ipynb",
      "version": "0.3.2",
      "provenance": [],
      "collapsed_sections": []
    },
    "kernelspec": {
      "name": "python3",
      "display_name": "Python 3"
    }
  },
  "cells": [
    {
      "metadata": {
        "id": "Lmr156uG_-pi",
        "colab_type": "code",
        "outputId": "6b9d63a0-7dbc-4ee8-81a4-654a3c10e4ff",
        "colab": {
          "base_uri": "https://localhost:8080/",
          "height": 51
        }
      },
      "cell_type": "code",
      "source": [
        "pip install pulp"
      ],
      "execution_count": 35,
      "outputs": [
        {
          "output_type": "stream",
          "text": [
            "Requirement already satisfied: pulp in /usr/local/lib/python3.6/dist-packages (1.6.9)\n",
            "Requirement already satisfied: pyparsing>=2.0.1 in /usr/local/lib/python3.6/dist-packages (from pulp) (2.4.0)\n"
          ],
          "name": "stdout"
        }
      ]
    },
    {
      "metadata": {
        "id": "A0vBA0w7AIxL",
        "colab_type": "code",
        "colab": {}
      },
      "cell_type": "code",
      "source": [
        "from pulp import *"
      ],
      "execution_count": 0,
      "outputs": []
    },
    {
      "metadata": {
        "id": "ONT2EIMaALG1",
        "colab_type": "code",
        "colab": {}
      },
      "cell_type": "code",
      "source": [
        "#SETS \n",
        "customers = [1,2,3,4,5]\n",
        "facility = ['FAC 1','FAC 2','FAC 3']"
      ],
      "execution_count": 0,
      "outputs": []
    },
    {
      "metadata": {
        "id": "1uUUtxLjAwfc",
        "colab_type": "code",
        "colab": {}
      },
      "cell_type": "code",
      "source": [
        "#parameter\n",
        "demand={1 : 80,\n",
        "       2 : 270,\n",
        "       3 : 250,\n",
        "       4 : 160,\n",
        "       5 : 180}\n",
        "actcost = {'FAC 1' : 1000,\n",
        "          'FAC 2' : 1000,\n",
        "          'FAC 3' : 1000}\n",
        "maxamount = {'FAC 1' : 500,\n",
        "          'FAC 2' : 500,\n",
        "          'FAC 3' : 500}\n",
        "transportcost = {'FAC 1' :{1 : 4, 2 : 5, 3 : 6, 4 : 8, 5 : 10},\n",
        "          'FAC 2' :{1 : 6, 2 : 4, 3 : 3, 4 : 5, 5 : 8},\n",
        "          'FAC 3' :{1 : 9, 2 : 7, 3 : 4, 4 : 3, 5 : 4}}"
      ],
      "execution_count": 0,
      "outputs": []
    },
    {
      "metadata": {
        "id": "BbDRoxBjCRxF",
        "colab_type": "code",
        "colab": {}
      },
      "cell_type": "code",
      "source": [
        "#SET PROBLEM VARIABLE\n",
        "prob = LpProblem(\"FacilityLocation\", LpMinimize)"
      ],
      "execution_count": 0,
      "outputs": []
    },
    {
      "metadata": {
        "id": "ELMxcHBaC0Yx",
        "colab_type": "code",
        "colab": {}
      },
      "cell_type": "code",
      "source": [
        "#decision variable\n",
        "serv_vars = LpVariable.dicts(\"Service\",\n",
        "                            [(i,j) for i in customers\n",
        "                                   for j in facility],\n",
        "                            0)\n",
        "use_vars = LpVariable.dicts(\"Uselocation\", facility,0,1,LpBinary)"
      ],
      "execution_count": 0,
      "outputs": []
    },
    {
      "metadata": {
        "id": "82E1XWxfEWNz",
        "colab_type": "code",
        "colab": {}
      },
      "cell_type": "code",
      "source": [
        "#objective function\n",
        "prob += lpSum(actcost[j]*use_vars[j] for j in facility) + lpSum(transportcost[j][i]*serv_vars[(i,j)] for j in facility for i in customers)"
      ],
      "execution_count": 0,
      "outputs": []
    },
    {
      "metadata": {
        "id": "mx1RXy08Jm8l",
        "colab_type": "code",
        "colab": {}
      },
      "cell_type": "code",
      "source": [
        "#constraints\n",
        "for i in customers:\n",
        "  prob +=lpSum(serv_vars[(i,j)] for j in facility) == demand[i] #constraints 1\n",
        "\n",
        "for j in facility:\n",
        "  prob +=lpSum(serv_vars[(i,j)] for i in customers) <= maxamount[j]*use_vars[j]\n",
        "  \n",
        "\n",
        "for i in customers:\n",
        "  for j in facility:\n",
        "    prob +=serv_vars[(i,j)] <= demand[i]*use_vars[j]\n",
        "    "
      ],
      "execution_count": 0,
      "outputs": []
    },
    {
      "metadata": {
        "id": "Ud2yFAg4LBW9",
        "colab_type": "code",
        "outputId": "6e48e362-63d1-47e5-e9dd-58e7b9da8bcc",
        "colab": {
          "base_uri": "https://localhost:8080/",
          "height": 391
        }
      },
      "cell_type": "code",
      "source": [
        "#solution\n",
        "prob.solve()\n",
        "print(\"status\", LpStatus[prob.status])\n",
        "\n",
        "#print decision variables\n",
        "TOL = .00001\n",
        "for i in facility:\n",
        "  if use_vars[i].varValue >TOL:\n",
        "   print(\"establish facility st site\" , i)\n",
        "\n",
        "for v in prob.variables():\n",
        "  print(v.name, \"=\" ,v.varValue)\n",
        " \n",
        "#print optimal solution\n",
        "print(\"the cost of production in dollers for one year\", value(prob.objective))"
      ],
      "execution_count": 44,
      "outputs": [
        {
          "output_type": "stream",
          "text": [
            "status Optimal\n",
            "establish facility st site FAC 2\n",
            "establish facility st site FAC 3\n",
            "Service_(1,_'FAC_1') = 0.0\n",
            "Service_(1,_'FAC_2') = 80.0\n",
            "Service_(1,_'FAC_3') = 0.0\n",
            "Service_(2,_'FAC_1') = 0.0\n",
            "Service_(2,_'FAC_2') = 270.0\n",
            "Service_(2,_'FAC_3') = 0.0\n",
            "Service_(3,_'FAC_1') = 0.0\n",
            "Service_(3,_'FAC_2') = 150.0\n",
            "Service_(3,_'FAC_3') = 100.0\n",
            "Service_(4,_'FAC_1') = 0.0\n",
            "Service_(4,_'FAC_2') = 0.0\n",
            "Service_(4,_'FAC_3') = 160.0\n",
            "Service_(5,_'FAC_1') = 0.0\n",
            "Service_(5,_'FAC_2') = 0.0\n",
            "Service_(5,_'FAC_3') = 180.0\n",
            "Uselocation_FAC_1 = 0.0\n",
            "Uselocation_FAC_2 = 1.0\n",
            "Uselocation_FAC_3 = 1.0\n",
            "the cost of production in dollers for one year 5610.0\n"
          ],
          "name": "stdout"
        }
      ]
    }
  ]
}